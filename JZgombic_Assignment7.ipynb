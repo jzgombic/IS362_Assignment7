{
 "cells": [
  {
   "cell_type": "markdown",
   "metadata": {},
   "source": [
    "# IS 362 - Week 7 Assignment\n",
    "\n",
    "### Johnny Zgombic"
   ]
  },
  {
   "cell_type": "markdown",
   "metadata": {},
   "source": [
    "Choose six recent popular movies.  Ask at least five people that you know (friends, family, classmates, imaginary friends) to rate each of these movies that they have seen on a scale of 1 to 5.  There should be at least one movie that not everyone has seen!\n",
    "\n",
    "Take the results (observations) and store them somewhere (like a SQL database, or a .CSV file).  Load the information into a pandas dataframe.  Your solution should include Python and pandas code that accomplishes the following:\n",
    "\n",
    "1.Load the ratings by user information that you collected into a pandas dataframe.\n",
    "\n",
    "2.Show the average ratings for each user and each movie.\n",
    "\n",
    "3.Create a new pandas dataframe, with normalizedratings for each user.  Again, show the average ratings for each user and each movie.\n",
    "\n",
    "4.Provide a text-based conclusion: explain what might be advantages and disadvantages of using normalized ratings instead of the actual ratings."
   ]
  },
  {
   "cell_type": "markdown",
   "metadata": {},
   "source": [
    "The first step in our program is to import **pandas** and **numpy**."
   ]
  },
  {
   "cell_type": "code",
   "execution_count": 10,
   "metadata": {
    "collapsed": true
   },
   "outputs": [],
   "source": [
    "import numpy as np\n",
    "import pandas as pd"
   ]
  },
  {
   "cell_type": "markdown",
   "metadata": {},
   "source": [
    "We will now read the csv file into **Python** using **pd.read_csv**."
   ]
  },
  {
   "cell_type": "code",
   "execution_count": 11,
   "metadata": {},
   "outputs": [
    {
     "data": {
      "text/html": [
       "<div>\n",
       "<style>\n",
       "    .dataframe thead tr:only-child th {\n",
       "        text-align: right;\n",
       "    }\n",
       "\n",
       "    .dataframe thead th {\n",
       "        text-align: left;\n",
       "    }\n",
       "\n",
       "    .dataframe tbody tr th {\n",
       "        vertical-align: top;\n",
       "    }\n",
       "</style>\n",
       "<table border=\"1\" class=\"dataframe\">\n",
       "  <thead>\n",
       "    <tr style=\"text-align: right;\">\n",
       "      <th></th>\n",
       "      <th>Konata Ratings</th>\n",
       "      <th>Jenny Rating</th>\n",
       "      <th>James Rating</th>\n",
       "      <th>Gerson Rating</th>\n",
       "      <th>Hyla Rating</th>\n",
       "      <th>Jermaine Ratings</th>\n",
       "      <th>Aaron Rating</th>\n",
       "      <th>Aung Rating</th>\n",
       "    </tr>\n",
       "    <tr>\n",
       "      <th>Movie</th>\n",
       "      <th></th>\n",
       "      <th></th>\n",
       "      <th></th>\n",
       "      <th></th>\n",
       "      <th></th>\n",
       "      <th></th>\n",
       "      <th></th>\n",
       "      <th></th>\n",
       "    </tr>\n",
       "  </thead>\n",
       "  <tbody>\n",
       "    <tr>\n",
       "      <th>Spider-Man: Far from Home</th>\n",
       "      <td>4</td>\n",
       "      <td>NaN</td>\n",
       "      <td>5.0</td>\n",
       "      <td>3</td>\n",
       "      <td>NaN</td>\n",
       "      <td>3.0</td>\n",
       "      <td>4</td>\n",
       "      <td>3</td>\n",
       "    </tr>\n",
       "    <tr>\n",
       "      <th>Avengers: Endgame</th>\n",
       "      <td>5</td>\n",
       "      <td>5.0</td>\n",
       "      <td>5.0</td>\n",
       "      <td>4</td>\n",
       "      <td>3.0</td>\n",
       "      <td>NaN</td>\n",
       "      <td>5</td>\n",
       "      <td>4</td>\n",
       "    </tr>\n",
       "    <tr>\n",
       "      <th>Captain Marvel</th>\n",
       "      <td>2</td>\n",
       "      <td>NaN</td>\n",
       "      <td>2.0</td>\n",
       "      <td>1</td>\n",
       "      <td>3.0</td>\n",
       "      <td>3.0</td>\n",
       "      <td>4</td>\n",
       "      <td>2</td>\n",
       "    </tr>\n",
       "    <tr>\n",
       "      <th>Spider-Man: Into the Spider-Verse</th>\n",
       "      <td>5</td>\n",
       "      <td>NaN</td>\n",
       "      <td>3.0</td>\n",
       "      <td>5</td>\n",
       "      <td>NaN</td>\n",
       "      <td>4.0</td>\n",
       "      <td>5</td>\n",
       "      <td>5</td>\n",
       "    </tr>\n",
       "    <tr>\n",
       "      <th>Venom</th>\n",
       "      <td>3</td>\n",
       "      <td>NaN</td>\n",
       "      <td>NaN</td>\n",
       "      <td>4</td>\n",
       "      <td>NaN</td>\n",
       "      <td>4.0</td>\n",
       "      <td>4</td>\n",
       "      <td>3</td>\n",
       "    </tr>\n",
       "    <tr>\n",
       "      <th>Dark Phoenix</th>\n",
       "      <td>4</td>\n",
       "      <td>5.0</td>\n",
       "      <td>NaN</td>\n",
       "      <td>4</td>\n",
       "      <td>NaN</td>\n",
       "      <td>5.0</td>\n",
       "      <td>3</td>\n",
       "      <td>3</td>\n",
       "    </tr>\n",
       "  </tbody>\n",
       "</table>\n",
       "</div>"
      ],
      "text/plain": [
       "                                   Konata Ratings  Jenny Rating  James Rating  \\\n",
       "Movie                                                                           \n",
       "Spider-Man: Far from Home                       4           NaN           5.0   \n",
       "Avengers: Endgame                               5           5.0           5.0   \n",
       "Captain Marvel                                  2           NaN           2.0   \n",
       "Spider-Man: Into the Spider-Verse               5           NaN           3.0   \n",
       "Venom                                           3           NaN           NaN   \n",
       "Dark Phoenix                                    4           5.0           NaN   \n",
       "\n",
       "                                   Gerson Rating  Hyla Rating  \\\n",
       "Movie                                                           \n",
       "Spider-Man: Far from Home                      3          NaN   \n",
       "Avengers: Endgame                              4          3.0   \n",
       "Captain Marvel                                 1          3.0   \n",
       "Spider-Man: Into the Spider-Verse              5          NaN   \n",
       "Venom                                          4          NaN   \n",
       "Dark Phoenix                                   4          NaN   \n",
       "\n",
       "                                   Jermaine Ratings  Aaron Rating  Aung Rating  \n",
       "Movie                                                                           \n",
       "Spider-Man: Far from Home                       3.0             4            3  \n",
       "Avengers: Endgame                               NaN             5            4  \n",
       "Captain Marvel                                  3.0             4            2  \n",
       "Spider-Man: Into the Spider-Verse               4.0             5            5  \n",
       "Venom                                           4.0             4            3  \n",
       "Dark Phoenix                                    5.0             3            3  "
      ]
     },
     "execution_count": 11,
     "metadata": {},
     "output_type": "execute_result"
    }
   ],
   "source": [
    "ratings = pd.read_csv('ratings.csv', index_col = 0)\n",
    "ratings"
   ]
  },
  {
   "cell_type": "markdown",
   "metadata": {},
   "source": [
    "We are now going to take the **Mean** of the ratings from the the rows corresponding to each movie. \n",
    "\n",
    "Using **mean()**, we will use **axis=1**, which are the rows corresponding to the movies and their ratings given by users, and **skipna=True** which will ignore all the *NaN* values so that we may get an accurate mean from only the reviews present. "
   ]
  },
  {
   "cell_type": "code",
   "execution_count": 12,
   "metadata": {},
   "outputs": [
    {
     "data": {
      "text/plain": [
       "Movie\n",
       "Spider-Man: Far from Home            3.666667\n",
       "Avengers: Endgame                    4.428571\n",
       "Captain Marvel                       2.428571\n",
       "Spider-Man: Into the Spider-Verse    4.500000\n",
       "Venom                                3.600000\n",
       "Dark Phoenix                         4.000000\n",
       "dtype: float64"
      ]
     },
     "execution_count": 12,
     "metadata": {},
     "output_type": "execute_result"
    }
   ],
   "source": [
    "movie_average = ratings.mean(axis = 1, skipna = True)\n",
    "movie_average"
   ]
  },
  {
   "cell_type": "markdown",
   "metadata": {},
   "source": [
    "We are now going to take the **Mean** of the ratings from the the columns corresponding to each user. \n",
    "\n",
    "Using **mean()**, we will use **axis=0**, which are the columns corresponding to the users and their ratings given to each movie, and **skipna=True** which will ignore all the *NaN* values so that we may get an accurate mean from only the reviews present."
   ]
  },
  {
   "cell_type": "code",
   "execution_count": 13,
   "metadata": {},
   "outputs": [
    {
     "data": {
      "text/plain": [
       "Konata Ratings      3.833333\n",
       "Jenny Rating        5.000000\n",
       "James Rating        3.750000\n",
       "Gerson Rating       3.500000\n",
       "Hyla Rating         3.000000\n",
       "Jermaine Ratings    3.800000\n",
       "Aaron Rating        4.166667\n",
       "Aung Rating         3.333333\n",
       "dtype: float64"
      ]
     },
     "execution_count": 13,
     "metadata": {},
     "output_type": "execute_result"
    }
   ],
   "source": [
    "user_average = ratings.mean(axis = 0, skipna = True)\n",
    "user_average"
   ]
  },
  {
   "cell_type": "markdown",
   "metadata": {},
   "source": [
    "In this step, there are a few things going on.\n",
    "\n",
    "First, using **fillna()**, we will replace all the *NaN* values with a *0* so that we may use it in the subtraction we need for normalization.\n",
    "\n",
    "The next step is to use the normalization formala to get our numbers.\n",
    "\n",
    "The final step is to now reintroduce the *NaN* values back into their original places."
   ]
  },
  {
   "cell_type": "code",
   "execution_count": 14,
   "metadata": {},
   "outputs": [
    {
     "data": {
      "text/html": [
       "<div>\n",
       "<style>\n",
       "    .dataframe thead tr:only-child th {\n",
       "        text-align: right;\n",
       "    }\n",
       "\n",
       "    .dataframe thead th {\n",
       "        text-align: left;\n",
       "    }\n",
       "\n",
       "    .dataframe tbody tr th {\n",
       "        vertical-align: top;\n",
       "    }\n",
       "</style>\n",
       "<table border=\"1\" class=\"dataframe\">\n",
       "  <thead>\n",
       "    <tr style=\"text-align: right;\">\n",
       "      <th></th>\n",
       "      <th>Konata Ratings</th>\n",
       "      <th>Jenny Rating</th>\n",
       "      <th>James Rating</th>\n",
       "      <th>Gerson Rating</th>\n",
       "      <th>Hyla Rating</th>\n",
       "      <th>Jermaine Ratings</th>\n",
       "      <th>Aaron Rating</th>\n",
       "      <th>Aung Rating</th>\n",
       "    </tr>\n",
       "    <tr>\n",
       "      <th>Movie</th>\n",
       "      <th></th>\n",
       "      <th></th>\n",
       "      <th></th>\n",
       "      <th></th>\n",
       "      <th></th>\n",
       "      <th></th>\n",
       "      <th></th>\n",
       "      <th></th>\n",
       "    </tr>\n",
       "  </thead>\n",
       "  <tbody>\n",
       "    <tr>\n",
       "      <th>Spider-Man: Far from Home</th>\n",
       "      <td>0.666667</td>\n",
       "      <td>NaN</td>\n",
       "      <td>1.0</td>\n",
       "      <td>0.50</td>\n",
       "      <td>NaN</td>\n",
       "      <td>0.6</td>\n",
       "      <td>0.5</td>\n",
       "      <td>0.333333</td>\n",
       "    </tr>\n",
       "    <tr>\n",
       "      <th>Avengers: Endgame</th>\n",
       "      <td>1.000000</td>\n",
       "      <td>1.0</td>\n",
       "      <td>1.0</td>\n",
       "      <td>0.75</td>\n",
       "      <td>1.0</td>\n",
       "      <td>NaN</td>\n",
       "      <td>1.0</td>\n",
       "      <td>0.666667</td>\n",
       "    </tr>\n",
       "    <tr>\n",
       "      <th>Captain Marvel</th>\n",
       "      <td>NaN</td>\n",
       "      <td>NaN</td>\n",
       "      <td>0.4</td>\n",
       "      <td>NaN</td>\n",
       "      <td>1.0</td>\n",
       "      <td>0.6</td>\n",
       "      <td>0.5</td>\n",
       "      <td>NaN</td>\n",
       "    </tr>\n",
       "    <tr>\n",
       "      <th>Spider-Man: Into the Spider-Verse</th>\n",
       "      <td>1.000000</td>\n",
       "      <td>NaN</td>\n",
       "      <td>0.6</td>\n",
       "      <td>1.00</td>\n",
       "      <td>NaN</td>\n",
       "      <td>0.8</td>\n",
       "      <td>1.0</td>\n",
       "      <td>1.000000</td>\n",
       "    </tr>\n",
       "    <tr>\n",
       "      <th>Venom</th>\n",
       "      <td>0.333333</td>\n",
       "      <td>NaN</td>\n",
       "      <td>NaN</td>\n",
       "      <td>0.75</td>\n",
       "      <td>NaN</td>\n",
       "      <td>0.8</td>\n",
       "      <td>0.5</td>\n",
       "      <td>0.333333</td>\n",
       "    </tr>\n",
       "    <tr>\n",
       "      <th>Dark Phoenix</th>\n",
       "      <td>0.666667</td>\n",
       "      <td>1.0</td>\n",
       "      <td>NaN</td>\n",
       "      <td>0.75</td>\n",
       "      <td>NaN</td>\n",
       "      <td>1.0</td>\n",
       "      <td>NaN</td>\n",
       "      <td>0.333333</td>\n",
       "    </tr>\n",
       "  </tbody>\n",
       "</table>\n",
       "</div>"
      ],
      "text/plain": [
       "                                   Konata Ratings  Jenny Rating  James Rating  \\\n",
       "Movie                                                                           \n",
       "Spider-Man: Far from Home                0.666667           NaN           1.0   \n",
       "Avengers: Endgame                        1.000000           1.0           1.0   \n",
       "Captain Marvel                                NaN           NaN           0.4   \n",
       "Spider-Man: Into the Spider-Verse        1.000000           NaN           0.6   \n",
       "Venom                                    0.333333           NaN           NaN   \n",
       "Dark Phoenix                             0.666667           1.0           NaN   \n",
       "\n",
       "                                   Gerson Rating  Hyla Rating  \\\n",
       "Movie                                                           \n",
       "Spider-Man: Far from Home                   0.50          NaN   \n",
       "Avengers: Endgame                           0.75          1.0   \n",
       "Captain Marvel                               NaN          1.0   \n",
       "Spider-Man: Into the Spider-Verse           1.00          NaN   \n",
       "Venom                                       0.75          NaN   \n",
       "Dark Phoenix                                0.75          NaN   \n",
       "\n",
       "                                   Jermaine Ratings  Aaron Rating  Aung Rating  \n",
       "Movie                                                                           \n",
       "Spider-Man: Far from Home                       0.6           0.5     0.333333  \n",
       "Avengers: Endgame                               NaN           1.0     0.666667  \n",
       "Captain Marvel                                  0.6           0.5          NaN  \n",
       "Spider-Man: Into the Spider-Verse               0.8           1.0     1.000000  \n",
       "Venom                                           0.8           0.5     0.333333  \n",
       "Dark Phoenix                                    1.0           NaN     0.333333  "
      ]
     },
     "execution_count": 14,
     "metadata": {},
     "output_type": "execute_result"
    }
   ],
   "source": [
    "ratings.fillna(value=0, inplace=True)\n",
    "normal = (ratings - ratings.min()) / (ratings.max() - ratings.min())\n",
    "normal2 = normal.replace(0, np.nan)\n",
    "normal2"
   ]
  },
  {
   "cell_type": "markdown",
   "metadata": {},
   "source": [
    "We are now going to take the **Mean** of the *normalized* ratings from the the rows corresponding to each movie. \n",
    "\n",
    "Using **mean()**, we will use **axis=1**, which are the rows corresponding to the movies and their *normalized* ratings given by users, and **skipna=True** which will ignore all the *NaN* values so that we may get an accurate mean from only the reviews present."
   ]
  },
  {
   "cell_type": "code",
   "execution_count": 15,
   "metadata": {},
   "outputs": [
    {
     "data": {
      "text/plain": [
       "Movie\n",
       "Spider-Man: Far from Home            0.600000\n",
       "Avengers: Endgame                    0.916667\n",
       "Captain Marvel                       0.625000\n",
       "Spider-Man: Into the Spider-Verse    0.900000\n",
       "Venom                                0.543333\n",
       "Dark Phoenix                         0.750000\n",
       "dtype: float64"
      ]
     },
     "execution_count": 15,
     "metadata": {},
     "output_type": "execute_result"
    }
   ],
   "source": [
    "normal_movie_average = normal2.mean(axis = 1, skipna = True)\n",
    "normal_movie_average"
   ]
  },
  {
   "cell_type": "markdown",
   "metadata": {},
   "source": [
    "We are now going to take the **Mean** of the *normalized* ratings from the the columns corresponding to each user. \n",
    "\n",
    "Using **mean()**, we will use **axis=0**, which are the columns corresponding to the users and their *normalized* ratings given to each movie, and **skipna=True** which will ignore all the *NaN* values so that we may get an accurate mean from only the reviews present."
   ]
  },
  {
   "cell_type": "code",
   "execution_count": 16,
   "metadata": {},
   "outputs": [
    {
     "data": {
      "text/plain": [
       "Konata Ratings      0.733333\n",
       "Jenny Rating        1.000000\n",
       "James Rating        0.750000\n",
       "Gerson Rating       0.750000\n",
       "Hyla Rating         1.000000\n",
       "Jermaine Ratings    0.760000\n",
       "Aaron Rating        0.700000\n",
       "Aung Rating         0.533333\n",
       "dtype: float64"
      ]
     },
     "execution_count": 16,
     "metadata": {},
     "output_type": "execute_result"
    }
   ],
   "source": [
    "normal_user_average = normal2.mean(axis = 0, skipna = True)\n",
    "normal_user_average"
   ]
  },
  {
   "cell_type": "markdown",
   "metadata": {},
   "source": [
    "### Conclusion\n",
    "\n",
    "By it's definition, the goal of normalization is to change the values of numeric columns in the dataset to a common scale, without distorting differences in the ranges of values. \n",
    "\n",
    "**What exactly does this mean?** \n",
    "\n",
    "When breaking down data into scales, looking at a range from 0-1 is a lot easier than figuring out a range from 1-10000, especially when there are thousands of rows of data to deal with. if you know that your data is normalized, then you can quickly look at a value and know its significance to the the entire dataset. A value of .00001 is very low compared to a value of .99 and you know that immediately. However, if the data was not normalized, you don't know what the maximum value is for your data so it is very complex to begin with."
   ]
  },
  {
   "cell_type": "code",
   "execution_count": null,
   "metadata": {
    "collapsed": true
   },
   "outputs": [],
   "source": []
  }
 ],
 "metadata": {
  "kernelspec": {
   "display_name": "Python 3",
   "language": "python",
   "name": "python3"
  },
  "language_info": {
   "codemirror_mode": {
    "name": "ipython",
    "version": 3
   },
   "file_extension": ".py",
   "mimetype": "text/x-python",
   "name": "python",
   "nbconvert_exporter": "python",
   "pygments_lexer": "ipython3",
   "version": "3.6.2"
  }
 },
 "nbformat": 4,
 "nbformat_minor": 2
}
